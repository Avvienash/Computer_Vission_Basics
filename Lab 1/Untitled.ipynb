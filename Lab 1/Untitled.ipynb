{
 "cells": [
  {
   "cell_type": "code",
   "execution_count": 1,
   "id": "277d6632",
   "metadata": {},
   "outputs": [],
   "source": [
    "import os\n",
    "import numpy as np\n",
    "from matplotlib import pyplot as plt\n",
    "import cv2\n",
    "from numpy import nan"
   ]
  },
  {
   "cell_type": "code",
   "execution_count": 2,
   "id": "bef993cc",
   "metadata": {},
   "outputs": [],
   "source": [
    "def conv(im, A):\n",
    "    \n",
    "    H, W = im.shape\n",
    "    h, w = A.shape\n",
    "    B = np.zeros((H-h+1,W-w+1))\n",
    "    \n",
    "    for x in range((H-h+1)*(W-w+1)):\n",
    "            r = x // (W-w+1)\n",
    "            c = x % (W-w+1)\n",
    "            B[r,c] = np.sum(np.multiply(A,im[r:r+h,c:c+w]))\n",
    "    \n",
    "       \n",
    "    return B"
   ]
  },
  {
   "cell_type": "code",
   "execution_count": 3,
   "id": "b7c7fa45",
   "metadata": {},
   "outputs": [
    {
     "name": "stdout",
     "output_type": "stream",
     "text": [
      "[[-1  0  1]\n",
      " [-2  0  2]\n",
      " [-1  0  1]]\n",
      "[[-1 -2 -1]\n",
      " [ 0  0  0]\n",
      " [ 1  2  1]]\n"
     ]
    }
   ],
   "source": [
    "# Write your code here\n",
    "sobel_x = np.array([[-1, 0, 1], [-2, 0, 2], [-1, 0, 1]])\n",
    "sobel_y = np.array([[-1, -2, -1], [0, 0, 0], [1, 2, 1]])\n",
    "\n",
    "print(sobel_x)\n",
    "print(sobel_y)"
   ]
  },
  {
   "cell_type": "code",
   "execution_count": 7,
   "id": "e5392b9a",
   "metadata": {},
   "outputs": [
    {
     "data": {
      "text/plain": [
       "array([[-3,  1,  7, -1, 21],\n",
       "       [12, 13, 10,  9, 14],\n",
       "       [19,  8, 15, 18, 24],\n",
       "       [ 3, -7, -7, -5, -6],\n",
       "       [ 9,  8, -3,  7,  2]])"
      ]
     },
     "execution_count": 7,
     "metadata": {},
     "output_type": "execute_result"
    }
   ],
   "source": [
    "\n",
    "Image = np.array([[-3,1,7,-1,21],[12,13,10,9,14],[19,8,15,18,24],[3,-7,-7,-5,-6],[9,8,-3,7,2]])\n",
    "\n",
    "Image"
   ]
  },
  {
   "cell_type": "code",
   "execution_count": 9,
   "id": "62416326",
   "metadata": {},
   "outputs": [
    {
     "name": "stdout",
     "output_type": "stream",
     "text": [
      "[[  2.   0.  31.]\n",
      " [-20.  18.  23.]\n",
      " [-36.  13.  16.]]\n",
      "[[ 44.  42.  49.]\n",
      " [-66. -68. -65.]\n",
      " [-28. -47. -62.]]\n"
     ]
    }
   ],
   "source": [
    "grad_x = conv(Image,sobel_x)\n",
    "grad_y = conv(Image,sobel_y)\n",
    "\n",
    "print(grad_x)\n",
    "print(grad_y)"
   ]
  },
  {
   "cell_type": "code",
   "execution_count": 12,
   "id": "e0cbd9ed",
   "metadata": {},
   "outputs": [
    {
     "name": "stdout",
     "output_type": "stream",
     "text": [
      "[[-1  1  2]\n",
      " [-1  1  1]\n",
      " [-1 -1 -1]]\n",
      "[[ 1  3 -1  5  6]\n",
      " [ 2  2  8  6  8]\n",
      " [ 2 -1  7  2  8]\n",
      " [-1  0  2 -1  2]\n",
      " [ 4  4  1  3  1]]\n",
      "[[36. 36. 36. 36.]]\n"
     ]
    }
   ],
   "source": [
    "kernel = np.array([[-1,1,2],[-1,1,1],[-1,-1,-1]])\n",
    "print(kernel)\n",
    "\n",
    "Image = np.array([[1,3,-1,5,6],\n",
    "                 [2,2,8,6,8],\n",
    "                 [2,-1,7,2,8],\n",
    "                 [-1,0,2,-1,2],\n",
    "                 [4,4,1,3,1]])\n",
    "print(Image)\n",
    "\n",
    "print(conv(np.ones((6,9)),np.ones((6,6))))"
   ]
  }
 ],
 "metadata": {
  "kernelspec": {
   "display_name": "gpu2",
   "language": "python",
   "name": "gpu2"
  },
  "language_info": {
   "codemirror_mode": {
    "name": "ipython",
    "version": 3
   },
   "file_extension": ".py",
   "mimetype": "text/x-python",
   "name": "python",
   "nbconvert_exporter": "python",
   "pygments_lexer": "ipython3",
   "version": "3.10.4"
  }
 },
 "nbformat": 4,
 "nbformat_minor": 5
}
